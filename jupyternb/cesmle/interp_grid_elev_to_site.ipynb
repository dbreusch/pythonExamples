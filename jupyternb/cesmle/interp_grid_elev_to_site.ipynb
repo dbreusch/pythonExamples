{
 "cells": [
  {
   "cell_type": "markdown",
   "metadata": {},
   "source": [
    "Interpolate grid point elevation to AWS site location\n",
    "====="
   ]
  },
  {
   "cell_type": "code",
   "execution_count": null,
   "metadata": {},
   "outputs": [],
   "source": [
    "dfMeta = pd.DataFrame(columns=['Site #','Site name','Site lat','Site lon','Site elev','ElevCorr','ElevErr',\n",
    "                          'QC Full', 'QC Overlap'],index=range(23))\n",
    "awsNames = []\n",
    "for awsIX in (range(nSites)):\n",
    "# for awsIX in ((0,1)):\n",
    "    \"\"\" Basic AWS info \"\"\"\n",
    "    awsName = A.getName( awsIX )\n",
    "    awsNames.append( awsName )\n",
    "    awsLatLon = ( A.getLat( awsIX ), A.getLon( awsIX ))\n",
    "    awsElev = A.getElev( awsIX )\n",
    "\n",
    "    \"\"\" Perform the interpolation on elev from model metadata \"\"\"\n",
    "    closest = C[awsIX]\n",
    "    Z = [ M.getElev( d[0], d[1] ) for d in zip( closest['ixLat'], closest['ixLon'] )]\n",
    "    Znew = M.interpolate( Z, closest, awsLatLon )\n",
    "    perr = Znew - awsElev\n",
    "    row = ( awsIX+1, awsName, awsLatLon[0], awsLatLon[1], awsElev, Znew, perr, \\\n",
    "            qcFull[awsIX], qcSub[awsIX] )\n",
    "    dfMeta.loc[awsIX] = row\n"
   ]
  }
 ],
 "metadata": {
  "kernelspec": {
   "display_name": "Python 2",
   "language": "python",
   "name": "python2"
  },
  "language_info": {
   "codemirror_mode": {
    "name": "ipython",
    "version": 2
   },
   "file_extension": ".py",
   "mimetype": "text/x-python",
   "name": "python",
   "nbconvert_exporter": "python",
   "pygments_lexer": "ipython2",
   "version": "2.7.10"
  }
 },
 "nbformat": 4,
 "nbformat_minor": 2
}
