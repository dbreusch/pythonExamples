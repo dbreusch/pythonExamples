{
 "cells": [
  {
   "cell_type": "markdown",
   "metadata": {},
   "source": [
    "Create a file with data interpolated from nearest grid points\n",
    "==="
   ]
  },
  {
   "cell_type": "markdown",
   "metadata": {},
   "source": [
    "Import required modules and set file names\n",
    "----"
   ]
  },
  {
   "cell_type": "code",
   "execution_count": 1,
   "metadata": {},
   "outputs": [],
   "source": [
    "from netCDF4 import Dataset,date2num\n",
    "import pandas as pd\n",
    "import numpy as np\n",
    "from model import Model\n",
    "from GCNet import GCNet"
   ]
  },
  {
   "cell_type": "markdown",
   "metadata": {},
   "source": [
    "Filenames\n",
    "---"
   ]
  },
  {
   "cell_type": "code",
   "execution_count": 2,
   "metadata": {},
   "outputs": [],
   "source": [
    "suff = \"19960101-20171231\"\n",
    "modelDataFN = \"daily/ei.oper.an.sfc.regn128sc.tas.\"+suff+\"_sub.nc\"\n",
    "modelMetaFN = \"erai_geog_sub.nc\"\n",
    "newNCFN = \"erai_tas_interp_\"+suff+\".nc\""
   ]
  },
  {
   "cell_type": "markdown",
   "metadata": {},
   "source": [
    "Load/define ERAI metadata\n",
    "----"
   ]
  },
  {
   "cell_type": "code",
   "execution_count": 3,
   "metadata": {},
   "outputs": [],
   "source": [
    "M = Model(modelMetaFN)\n",
    "M.loadMeta()\n",
    "\n",
    "minLon = -70 + 360\n",
    "maxLon = -15 + 360\n",
    "minLat = 58\n",
    "maxLat = 86.5\n",
    "M.setDomain( (minLat, maxLat, minLon, maxLon) )"
   ]
  },
  {
   "cell_type": "markdown",
   "metadata": {},
   "source": [
    "Load AWS metadata\n",
    "----"
   ]
  },
  {
   "cell_type": "code",
   "execution_count": 4,
   "metadata": {},
   "outputs": [],
   "source": [
    "A = GCNet(\"site_info.nc\")\n",
    "A.loadMeta()\n",
    "nSites = A.getNSites()"
   ]
  },
  {
   "cell_type": "markdown",
   "metadata": {},
   "source": [
    "Find closest grid points\n",
    "-----"
   ]
  },
  {
   "cell_type": "code",
   "execution_count": 5,
   "metadata": {},
   "outputs": [],
   "source": [
    "C = []\n",
    "for awsIX in (range(nSites)):\n",
    "    awsLatLon = ( A.getLat( awsIX ), A.getLon( awsIX ))\n",
    "    closest = M.closestPoints( awsLatLon )\n",
    "    C.append( closest )"
   ]
  },
  {
   "cell_type": "markdown",
   "metadata": {},
   "source": [
    "Process tas data\n",
    "----"
   ]
  },
  {
   "cell_type": "code",
   "execution_count": 6,
   "metadata": {},
   "outputs": [
    {
     "name": "stdout",
     "output_type": "stream",
     "text": [
      "daily/ei.oper.an.sfc.regn128sc.tas.19960101-20171231_sub.nc\n",
      "1996-01-01 09:00:00 2017-12-31 09:00:00\n",
      "8030 40 78\n",
      "Swiss Camp 28.1 km\n",
      "Crawford Point1 8.3 km\n",
      "NASA-U 24.0 km\n",
      "GITS 33.6 km\n",
      "Humboldt 31.4 km\n",
      "Summit 8.0 km\n",
      "Tunu-N 26.0 km\n",
      "DYE-2 19.2 km\n",
      "JAR1 37.4 km\n",
      "Saddle 36.2 km\n",
      "South Dome 39.2 km\n",
      "NASA-E 30.1 km\n",
      "Crawford Point2 13.9 km\n",
      "NGRIP 37.9 km\n",
      "NASA-SE 23.0 km\n",
      "KAR 14.0 km\n",
      "JAR2 33.5 km\n",
      "KULU 19.1 km\n",
      "JAR3 32.8 km\n",
      "Aurora 15.3 km\n",
      "Petermann GL 37.2 km\n",
      "Petermann ELA 30.2 km\n",
      "NEEM 7.5 km\n"
     ]
    }
   ],
   "source": [
    "print modelDataFN\n",
    "D = Model(None, modelDataFN)\n",
    "\n",
    "time, timeCF = D.loadData( \"time\" )\n",
    "print time[0], time[-1]\n",
    "\n",
    "tas = np.array( D.loadData( \"tas\" ) )\n",
    "nRec, nLat, nLon = tas.shape\n",
    "print nRec, nLat, nLon\n",
    "\n",
    "Tpts = np.empty( (nRec, 4), dtype = 'float' )\n",
    "TptsSave = np.empty( (nSites, nRec, 4), dtype = 'float' )\n",
    "Tnew = np.empty( (nRec, nSites), dtype = 'float' )\n",
    "\n",
    "for awsIX in (range(nSites)):\n",
    "# for awsIX in ((0,1)):\n",
    "# for awsIX in ([0]):\n",
    "    \"\"\" Basic AWS info \"\"\"\n",
    "    awsName = A.getName( awsIX )\n",
    "    awsLatLon = ( A.getLat( awsIX ), A.getLon( awsIX ))\n",
    "\n",
    "    \"\"\" Perform the interpolation on tas from model metadata \"\"\"\n",
    "    closest = C[awsIX]\n",
    "    dx = \"%.1f km\" % closest[0][-1]\n",
    "    print awsName, dx\n",
    "    for r in range(nRec):\n",
    "        Tpts[r, :] = [ tas[ r, d[0], d[1] ] for d in zip( closest['ixLat'], closest['ixLon'] )]\n",
    "    Tnew[:,awsIX] = M.interpolate( Tpts, closest, awsLatLon )\n",
    "    TptsSave[awsIX,:,:] = Tpts"
   ]
  },
  {
   "cell_type": "markdown",
   "metadata": {},
   "source": [
    "Create a netCDF file of the interpolated data\n",
    "===="
   ]
  },
  {
   "cell_type": "code",
   "execution_count": 7,
   "metadata": {},
   "outputs": [],
   "source": [
    "try: ncfile.close()  # just to be safe, make sure dataset is not already open.\n",
    "except: pass\n",
    "\n",
    "ncfile = Dataset(newNCFN,mode='w',format='NETCDF4_CLASSIC') \n",
    "ncfile.title = \"Interpolated temperature data\"\n",
    "ncfile.period = suff\n",
    "\n",
    "# define dimensions\n",
    "time_dim = ncfile.createDimension('time', None)\n",
    "stn_dim = ncfile.createDimension('station', nSites)\n",
    "pts_dim = ncfile.createDimension('pts', 4)\n",
    "\n",
    "# define and write time\n",
    "timeVar = ncfile.createVariable('time', np.float32, ('time',))\n",
    "timeVar.units = timeCF.units\n",
    "timeVar.calendar = timeCF.calendar\n",
    "timeVar.standard_name = timeCF.standard_name\n",
    "timeVar.long_name = timeCF.long_name\n",
    "timeVar.axis = timeCF.axis\n",
    "\n",
    "timeVar[:] = date2num(time, timeCF.units, timeCF.calendar)\n",
    "\n",
    "# define and write tas\n",
    "# tasVar = ncfile.createVariable('tas', np.float32, ('time','station'))\n",
    "# tasVar = ncfile.createVariable('tas', np.float32, ('ensemble','time','station'))\n",
    "tasVar = ncfile.createVariable('tas', np.float32, ('time','station'))\n",
    "tasVar.units = \"K\"\n",
    "tasVar.description = \"Surface temperature, interpolated\"\n",
    "tasVar.long_name = \"Reference height temperature\"\n",
    "# tasVar[:,:] = Tnew\n",
    "tasVar[:] = Tnew\n",
    "\n",
    "# define and write saved Tpts\n",
    "ptsVar = ncfile.createVariable('Tpts', np.float32, ('station','time','pts'))\n",
    "ptsVar.units = \"K\"\n",
    "ptsVar.description = \"Surface temperature, nearest grid points\"\n",
    "ptsVar.long_name = \"Reference height temperature\"\n",
    "ptsVar[:] = TptsSave\n",
    "\n",
    "ncfile.close()"
   ]
  }
 ],
 "metadata": {
  "kernelspec": {
   "display_name": "Python 2",
   "language": "python",
   "name": "python2"
  },
  "language_info": {
   "codemirror_mode": {
    "name": "ipython",
    "version": 2
   },
   "file_extension": ".py",
   "mimetype": "text/x-python",
   "name": "python",
   "nbconvert_exporter": "python",
   "pygments_lexer": "ipython2",
   "version": "2.7.10"
  }
 },
 "nbformat": 4,
 "nbformat_minor": 2
}
