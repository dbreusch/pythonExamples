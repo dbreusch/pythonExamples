{
 "cells": [
  {
   "cell_type": "markdown",
   "metadata": {},
   "source": [
    "Create a file with diurnal cycle data from closest grid point\n",
    "==="
   ]
  },
  {
   "cell_type": "markdown",
   "metadata": {},
   "source": [
    "Import required modules and set file names\n",
    "----"
   ]
  },
  {
   "cell_type": "code",
   "execution_count": 1,
   "metadata": {},
   "outputs": [],
   "source": [
    "from netCDF4 import Dataset,date2num\n",
    "import pandas as pd\n",
    "import numpy as np\n",
    "%load_ext autoreload\n",
    "%autoreload 2\n",
    "from model import Model\n",
    "from GCNet import GCNet"
   ]
  },
  {
   "cell_type": "code",
   "execution_count": 2,
   "metadata": {},
   "outputs": [],
   "source": [
    "# modelDataFN = \"daily/ei.oper.an.sfc.regn128sc.tas.19960101-20141231.nc\"\n",
    "# suff = \"19960101-20171231\"\n",
    "yrs = \"1996-2005\"\n",
    "modelDataFN = \"tas_\"+yrs+\"_diurnal.nc\"\n",
    "modelMetaFN = \"erai_geog_sub.nc\"\n",
    "newNCFN = \"erai_tas_\"+yrs+\"_diurnal_closest.nc\""
   ]
  },
  {
   "cell_type": "markdown",
   "metadata": {},
   "source": [
    "Load/define ERA Interim metadata\n",
    "----"
   ]
  },
  {
   "cell_type": "code",
   "execution_count": 3,
   "metadata": {},
   "outputs": [
    {
     "name": "stdout",
     "output_type": "stream",
     "text": [
      "1d dataset\n"
     ]
    }
   ],
   "source": [
    "M = Model(modelMetaFN)\n",
    "M.loadMeta()\n",
    "\n",
    "minLon = -70 + 360\n",
    "maxLon = -15 + 360\n",
    "minLat = 58\n",
    "maxLat = 86.5\n",
    "M.setDomain( (minLat, maxLat, minLon, maxLon) )"
   ]
  },
  {
   "cell_type": "code",
   "execution_count": 4,
   "metadata": {},
   "outputs": [],
   "source": [
    "# g = M.getMeta()\n",
    "# g[-1]"
   ]
  },
  {
   "cell_type": "markdown",
   "metadata": {},
   "source": [
    "Load AWS metadata\n",
    "----"
   ]
  },
  {
   "cell_type": "code",
   "execution_count": 5,
   "metadata": {},
   "outputs": [],
   "source": [
    "A = GCNet(\"site_info.nc\")\n",
    "A.loadMeta()\n",
    "nSites = A.getNSites()"
   ]
  },
  {
   "cell_type": "markdown",
   "metadata": {},
   "source": [
    "Find closest grid points\n",
    "-----"
   ]
  },
  {
   "cell_type": "code",
   "execution_count": 6,
   "metadata": {},
   "outputs": [
    {
     "name": "stdout",
     "output_type": "stream",
     "text": [
      "0\n",
      "1\n",
      "2\n",
      "3\n",
      "4\n",
      "5\n",
      "6\n",
      "7\n",
      "8\n",
      "9\n",
      "10\n",
      "11\n",
      "12\n",
      "13\n",
      "14\n",
      "15\n",
      "16\n",
      "17\n",
      "18\n",
      "19\n",
      "20\n",
      "21\n",
      "22\n"
     ]
    }
   ],
   "source": [
    "C = []\n",
    "for awsIX in (range(nSites)):\n",
    "# for awsIX in ((0,1)):\n",
    "# for awsIX in ((0,)):\n",
    "    print str(awsIX)\n",
    "    awsLatLon = ( A.getLat( awsIX ), A.getLon( awsIX ))\n",
    "    closest = M.closestPoints( awsLatLon )\n",
    "    C.append( closest )\n",
    "#     if awsIX == 5:\n",
    "#         print closest.dtype\n",
    "#         print closest"
   ]
  },
  {
   "cell_type": "markdown",
   "metadata": {},
   "source": [
    "Process tas data\n",
    "----"
   ]
  },
  {
   "cell_type": "code",
   "execution_count": 7,
   "metadata": {},
   "outputs": [
    {
     "name": "stdout",
     "output_type": "stream",
     "text": [
      "tas_1996-2005_diurnal.nc\n"
     ]
    }
   ],
   "source": [
    "print modelDataFN\n",
    "D = Model(None, modelDataFN)\n",
    "\n",
    "# time, timeCF = D.loadData( \"time\" )\n",
    "# print time[0], time[-1]\n",
    "# dfTime = pd.Series( time, name=\"Time\")\n",
    "\n",
    "month = np.array( D.loadData( \"month\" ) )\n",
    "hour = np.array( D.loadData( \"hour\" ) )\n",
    "tas = np.array( D.loadData( \"tas\" ) )"
   ]
  },
  {
   "cell_type": "code",
   "execution_count": 8,
   "metadata": {},
   "outputs": [
    {
     "name": "stdout",
     "output_type": "stream",
     "text": [
      "12 4 47 99\n",
      "Swiss Camp 28.1 km\n",
      "Crawford Point1 8.3 km\n",
      "NASA-U 24.0 km\n",
      "GITS 33.6 km\n",
      "Humboldt 31.4 km\n",
      "Summit 8.0 km\n",
      "Tunu-N 26.0 km\n",
      "DYE-2 19.2 km\n",
      "JAR1 37.4 km\n",
      "Saddle 36.2 km\n",
      "South Dome 39.2 km\n",
      "NASA-E 30.1 km\n",
      "Crawford Point2 13.9 km\n",
      "NGRIP 37.9 km\n",
      "NASA-SE 23.0 km\n",
      "KAR 14.0 km\n",
      "JAR2 33.5 km\n",
      "KULU 19.1 km\n",
      "JAR3 32.8 km\n",
      "Aurora 15.3 km\n",
      "Petermann GL 37.2 km\n",
      "Petermann ELA 30.2 km\n",
      "NEEM 7.5 km\n"
     ]
    }
   ],
   "source": [
    "nMon, nHour, nLat, nLon = tas.shape\n",
    "print nMon, nHour, nLat, nLon\n",
    "\n",
    "Tnew = np.empty( (nMon, nHour, nSites), dtype = 'float' )\n",
    "\n",
    "for awsIX in (range(nSites)):\n",
    "# for awsIX in ((0,1)):\n",
    "# for awsIX in ((0,)):\n",
    "    \"\"\" Basic AWS info \"\"\"\n",
    "    awsName = A.getName( awsIX )\n",
    "    awsLatLon = ( A.getLat( awsIX ), A.getLon( awsIX ))\n",
    "\n",
    "    closest = C[awsIX][0]\n",
    "#     print awsLatLon, closest\n",
    "#     print closest['lat'][0],closest['lon'][0]\n",
    "    dx = \"%.1f km\" % closest[-1]\n",
    "    print awsName, dx\n",
    "    Tnew[:,:,awsIX] = tas[:,:,closest['ixLat'],closest['ixLon']]"
   ]
  },
  {
   "cell_type": "markdown",
   "metadata": {},
   "source": [
    "Create a netCDF file for the new data\n",
    "-----"
   ]
  },
  {
   "cell_type": "code",
   "execution_count": 9,
   "metadata": {},
   "outputs": [],
   "source": [
    "try: ncfile.close()  # just to be safe, make sure dataset is not already open.\n",
    "except: pass\n",
    "\n",
    "ncfile = Dataset(newNCFN,mode='w',format='NETCDF4_CLASSIC') \n",
    "ncfile.title = \"Closest-point temperature data\"\n",
    "ncfile.period = yrs\n",
    "\n",
    "mon_dim = ncfile.createDimension('month', None)\n",
    "hr_dim = ncfile.createDimension('hour', nHour)\n",
    "stn_dim = ncfile.createDimension('station', nSites)\n",
    "\n",
    "monVar = ncfile.createVariable('month', np.float32, ('month',))\n",
    "monVar.description = \"Month of the year\"\n",
    "monVar[:] = month\n",
    "\n",
    "hrVar = ncfile.createVariable('hour', np.float32, ('hour',))\n",
    "hrVar.description = \"Hour of the day\"\n",
    "hrVar[:] = hour\n",
    "\n",
    "tasVar = ncfile.createVariable('tas', np.float32, ('month','hour','station'))\n",
    "tasVar.units = \"deg C\"\n",
    "tasVar.description = \"Surface temperature, closest point\"\n",
    "tasVar.long_name = \"Reference height temperature\"\n",
    "# tasVar[:,:] = Tnew\n",
    "tasVar[:] = Tnew\n",
    "\n",
    "ncfile.close()"
   ]
  }
 ],
 "metadata": {
  "kernelspec": {
   "display_name": "Python 2",
   "language": "python",
   "name": "python2"
  },
  "language_info": {
   "codemirror_mode": {
    "name": "ipython",
    "version": 2
   },
   "file_extension": ".py",
   "mimetype": "text/x-python",
   "name": "python",
   "nbconvert_exporter": "python",
   "pygments_lexer": "ipython2",
   "version": "2.7.10"
  }
 },
 "nbformat": 4,
 "nbformat_minor": 2
}
