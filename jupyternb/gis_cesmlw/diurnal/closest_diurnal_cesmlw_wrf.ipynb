{
 "cells": [
  {
   "cell_type": "markdown",
   "metadata": {},
   "source": [
    "Create a file with diurnal cycle data from closest grid point\n",
    "==="
   ]
  },
  {
   "cell_type": "markdown",
   "metadata": {},
   "source": [
    "Import required modules and set file names\n",
    "----"
   ]
  },
  {
   "cell_type": "code",
   "execution_count": 1,
   "metadata": {},
   "outputs": [],
   "source": [
    "from netCDF4 import Dataset,date2num\n",
    "import pandas as pd\n",
    "import numpy as np\n",
    "%load_ext autoreload\n",
    "%autoreload 2\n",
    "from model import Model\n",
    "from GCNet import GCNet"
   ]
  },
  {
   "cell_type": "markdown",
   "metadata": {},
   "source": [
    "Period-specific data\n",
    "----"
   ]
  },
  {
   "cell_type": "code",
   "execution_count": 17,
   "metadata": {},
   "outputs": [],
   "source": [
    "# modelDataFN = \"daily/ei.oper.an.sfc.regn128sc.tas.19960101-20141231.nc\"\n",
    "# suff = \"19960101-20171231\"\n",
    "yr1 = \"2071\"\n",
    "yr2 = \"2080\"\n",
    "yrs = yr1+\"-\"+yr2\n",
    "\n",
    "mon = 6\n",
    "mons = \"%02d\" % mon\n",
    "\n",
    "ens = 11\n",
    "enss = \"%03d\" % ens\n",
    "\n",
    "modelDataFN = \"tas_\"+enss+\"_\"+yrs+\"_\"+mons+\"_diurnal.nc\"\n",
    "modelMetaFN = \"wrf_geog.nc\"\n",
    "newNCFN = \"wrf_cesmlw_tas_\"+enss+\"_\"+yrs+\"_\"+mons+\"_diurnal_closest.nc\""
   ]
  },
  {
   "cell_type": "markdown",
   "metadata": {},
   "source": [
    "Load/define ERA Interim metadata\n",
    "----"
   ]
  },
  {
   "cell_type": "code",
   "execution_count": 3,
   "metadata": {},
   "outputs": [
    {
     "name": "stdout",
     "output_type": "stream",
     "text": [
      "2d dataset\n"
     ]
    }
   ],
   "source": [
    "M = Model(modelMetaFN)\n",
    "M.loadMeta()\n",
    "\n",
    "minLon = -70 + 360\n",
    "maxLon = -15 + 360\n",
    "minLat = 58\n",
    "maxLat = 86.5\n",
    "M.setDomain( (minLat, maxLat, minLon, maxLon) )"
   ]
  },
  {
   "cell_type": "code",
   "execution_count": 4,
   "metadata": {},
   "outputs": [],
   "source": [
    "# g = M.getMeta()\n",
    "# g[-1]"
   ]
  },
  {
   "cell_type": "markdown",
   "metadata": {},
   "source": [
    "Load AWS metadata\n",
    "----"
   ]
  },
  {
   "cell_type": "code",
   "execution_count": 5,
   "metadata": {},
   "outputs": [],
   "source": [
    "A = GCNet(\"site_info.nc\")\n",
    "A.loadMeta()\n",
    "nSites = A.getNSites()"
   ]
  },
  {
   "cell_type": "markdown",
   "metadata": {},
   "source": [
    "Find closest grid points\n",
    "-----"
   ]
  },
  {
   "cell_type": "code",
   "execution_count": 6,
   "metadata": {},
   "outputs": [
    {
     "name": "stdout",
     "output_type": "stream",
     "text": [
      "0\n",
      "1\n",
      "2\n",
      "3\n",
      "4\n",
      "5\n",
      "6\n",
      "7\n",
      "8\n",
      "9\n",
      "10\n",
      "11\n",
      "12\n",
      "13\n",
      "14\n",
      "15\n",
      "16\n",
      "17\n",
      "18\n",
      "19\n",
      "20\n",
      "21\n",
      "22\n"
     ]
    }
   ],
   "source": [
    "C = []\n",
    "for awsIX in (range(nSites)):\n",
    "# for awsIX in ((0,1)):\n",
    "# for awsIX in ((0,)):\n",
    "    print str(awsIX)\n",
    "    awsLatLon = ( A.getLat( awsIX ), A.getLon( awsIX ))\n",
    "    closest = M.closestPoints( awsLatLon )\n",
    "    C.append( closest )\n",
    "#     if awsIX == 5:\n",
    "#         print closest.dtype\n",
    "#         print closest"
   ]
  },
  {
   "cell_type": "markdown",
   "metadata": {},
   "source": [
    "Process tas data\n",
    "----"
   ]
  },
  {
   "cell_type": "code",
   "execution_count": 11,
   "metadata": {},
   "outputs": [
    {
     "name": "stdout",
     "output_type": "stream",
     "text": [
      "tas_011_2071-2080_06_diurnal.nc\n"
     ]
    }
   ],
   "source": [
    "print modelDataFN\n",
    "D = Model(None, modelDataFN)\n",
    "\n",
    "# time, timeCF = D.loadData( \"time\" )\n",
    "# print time[0], time[-1]\n",
    "# dfTime = pd.Series( time, name=\"Time\")\n",
    "\n",
    "month = np.array( D.loadData( \"month\" ) )\n",
    "hour = np.array( D.loadData( \"hour\" ) )\n",
    "tas = np.array( D.loadData( \"tas\" ) )"
   ]
  },
  {
   "cell_type": "code",
   "execution_count": 12,
   "metadata": {},
   "outputs": [
    {
     "name": "stdout",
     "output_type": "stream",
     "text": [
      "1 8 219 197\n",
      "Swiss Camp 2.1 km\n",
      "Crawford Point1 5.6 km\n",
      "NASA-U 6.7 km\n",
      "GITS 6.4 km\n",
      "Humboldt 6.9 km\n",
      "Summit 6.9 km\n",
      "Tunu-N 4.2 km\n",
      "DYE-2 3.8 km\n",
      "JAR1 7.7 km\n",
      "Saddle 5.6 km\n",
      "South Dome 6.1 km\n",
      "NASA-E 3.1 km\n",
      "Crawford Point2 10.0 km\n",
      "NGRIP 6.2 km\n",
      "NASA-SE 7.2 km\n",
      "KAR 1.2 km\n",
      "JAR2 4.4 km\n",
      "KULU 5.5 km\n",
      "JAR3 1.0 km\n",
      "Aurora 3.9 km\n",
      "Petermann GL 6.5 km\n",
      "Petermann ELA 4.9 km\n",
      "NEEM 2.7 km\n"
     ]
    }
   ],
   "source": [
    "nMon, nHour, nLat, nLon = tas.shape\n",
    "print nMon, nHour, nLat, nLon\n",
    "\n",
    "Tnew = np.empty( (nMon, nHour, nSites), dtype = 'float' )\n",
    "\n",
    "for awsIX in (range(nSites)):\n",
    "# for awsIX in ((0,1)):\n",
    "# for awsIX in ((0,)):\n",
    "    \"\"\" Basic AWS info \"\"\"\n",
    "    awsName = A.getName( awsIX )\n",
    "    awsLatLon = ( A.getLat( awsIX ), A.getLon( awsIX ))\n",
    "\n",
    "    closest = C[awsIX][0]\n",
    "#     print awsLatLon, closest\n",
    "#     print closest['lat'][0],closest['lon'][0]\n",
    "    dx = \"%.1f km\" % closest[-1]\n",
    "    print awsName, dx\n",
    "    Tnew[:,:,awsIX] = tas[:,:,closest['ixLat'],closest['ixLon']]"
   ]
  },
  {
   "cell_type": "markdown",
   "metadata": {},
   "source": [
    "Create a netCDF file for the new data\n",
    "-----"
   ]
  },
  {
   "cell_type": "code",
   "execution_count": 18,
   "metadata": {},
   "outputs": [],
   "source": [
    "try: ncfile.close()  # just to be safe, make sure dataset is not already open.\n",
    "except: pass\n",
    "\n",
    "ncfile = Dataset(newNCFN,mode='w',format='NETCDF4_CLASSIC') \n",
    "ncfile.title = \"Closest-point temperature data\"\n",
    "ncfile.period = yrs\n",
    "\n",
    "mon_dim = ncfile.createDimension('month', None)\n",
    "hr_dim = ncfile.createDimension('hour', nHour)\n",
    "stn_dim = ncfile.createDimension('station', nSites)\n",
    "\n",
    "monVar = ncfile.createVariable('month', np.float32, ('month',))\n",
    "monVar.description = \"Month of the year\"\n",
    "monVar[:] = month\n",
    "\n",
    "hrVar = ncfile.createVariable('hour', np.float32, ('hour',))\n",
    "hrVar.description = \"Hour of the day\"\n",
    "hrVar[:] = hour\n",
    "\n",
    "tasVar = ncfile.createVariable('tas', np.float32, ('month','hour','station'))\n",
    "tasVar.units = \"deg C\"\n",
    "tasVar.description = \"Surface temperature, closest point\"\n",
    "tasVar.long_name = \"Reference height temperature\"\n",
    "# tasVar[:,:] = Tnew\n",
    "tasVar[:] = Tnew\n",
    "\n",
    "ncfile.close()"
   ]
  }
 ],
 "metadata": {
  "kernelspec": {
   "display_name": "Python 2",
   "language": "python",
   "name": "python2"
  },
  "language_info": {
   "codemirror_mode": {
    "name": "ipython",
    "version": 2
   },
   "file_extension": ".py",
   "mimetype": "text/x-python",
   "name": "python",
   "nbconvert_exporter": "python",
   "pygments_lexer": "ipython2",
   "version": "2.7.10"
  }
 },
 "nbformat": 4,
 "nbformat_minor": 2
}
