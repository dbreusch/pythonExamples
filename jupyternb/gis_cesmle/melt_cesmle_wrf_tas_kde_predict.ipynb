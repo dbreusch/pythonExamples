{
 "cells": [
  {
   "cell_type": "markdown",
   "metadata": {},
   "source": [
    "KDE-based empirical prediction of melt/nomelt with tas\n",
    "===\n",
    "Currently (5/15/19) using adjusted CESM LE data.\n",
    "---"
   ]
  },
  {
   "cell_type": "markdown",
   "metadata": {},
   "source": [
    "Global module imports\n",
    "---"
   ]
  },
  {
   "cell_type": "code",
   "execution_count": 1,
   "metadata": {},
   "outputs": [],
   "source": [
    "# %matplotlib inline\n",
    "# %config InlineBackend.print_figure_kwargs = {'bbox_inches':'tight'}\n",
    "# from plotUtils import PlotUtils\n",
    "\n",
    "from netCDF4 import Dataset\n",
    "from netCDF4 import Dataset,date2num\n",
    "import pandas as pd\n",
    "import numpy as np\n",
    "from scipy import stats\n",
    "import os\n",
    "# import seaborn as sns\n",
    "# import matplotlib.pyplot as plt\n",
    "# import matplotlib.ticker as ticker\n",
    "# from matplotlib.lines import Line2D\n",
    "# from matplotlib.text import Text\n",
    "\n",
    "%load_ext autoreload\n",
    "%autoreload 2\n",
    "from model import Model\n",
    "from GCNet import GCNet\n",
    "from itertools import izip\n",
    "\n",
    "pd.options.mode.chained_assignment = None"
   ]
  },
  {
   "cell_type": "markdown",
   "metadata": {},
   "source": [
    "Function: define upper/lower temperature limits\n",
    "---"
   ]
  },
  {
   "cell_type": "code",
   "execution_count": 2,
   "metadata": {},
   "outputs": [],
   "source": [
    "def setLimits(  mms, var, src = \"grid\" ):\n",
    "    '''\n",
    "        bounds based on KDE of various datasets, 1996-2005.\n",
    "        tasmax values are STALE and based on ERAI analysis, not CESM LE (5/15/19).\n",
    "        note: this is a doubly-nested dictionary!\n",
    "    '''\n",
    "    bounds = { \\\n",
    "                'tas': { \\\n",
    "                   'aws': { \\\n",
    "                       '06':  ( -8.2,-0.6 ), \\\n",
    "                       '07':  ( -7.6,0.0 ), \\\n",
    "                       '08':  ( -9.9,-0.9 ), \\\n",
    "                       'JJA': ( -8.1,-0.5 ) \\\n",
    "                          }, \\\n",
    "                   'grid': { \\\n",
    "                       '06':  ( -9.1,-1.7 ), \\\n",
    "                       '07':  ( -8.4,-0.9 ), \\\n",
    "                       '08':  ( -10.7,-2.8 ), \\\n",
    "                       'JJA': ( -9.0,-1.5 ) \\\n",
    "                           } \\\n",
    "                       }, \\\n",
    "                'tasmax': { \\\n",
    "                  'aws': { \\\n",
    "                      '06':  ( -2.9, 1.2 ), \\\n",
    "                      '07':  ( -2.1, 1.4 ), \\\n",
    "                      '08':  ( -3.8, 1.4 ), \\\n",
    "                      'JJA': ( -2.8, 1.3 ) \\\n",
    "                         }, \\\n",
    "                  'grid': { \\\n",
    "                      '06':  ( -3.7, 0.9 ), \\\n",
    "                      '07':  ( -2.5, 1.0 ), \\\n",
    "                      '08':  ( -4.5, 1.9 ), \\\n",
    "                      'JJA': ( -3.3, 1.0 ) \\\n",
    "                          } \\\n",
    "                      } \\\n",
    "                 }\n",
    "    try:\n",
    "        return bounds[var][src][mms]\n",
    "    except:\n",
    "        print \"setLimits: Key error(s)!  Args: var =\",var,\", src =\",src,\", mms =\",mms\n",
    "        return (None, None)"
   ]
  },
  {
   "cell_type": "markdown",
   "metadata": {},
   "source": [
    "Function: Predict melt from temperature\n",
    "---"
   ]
  },
  {
   "cell_type": "code",
   "execution_count": 3,
   "metadata": {},
   "outputs": [],
   "source": [
    "def predictMelt( M, lwr, upr, npts = 30 ):\n",
    "    \"\"\" predict melt from temperature using empirical transition function\"\"\"\n",
    "\n",
    "    # setup\n",
    "    melt = np.zeros_like( M ).astype(np.float32)\n",
    "    \n",
    "    # set obvious melt points\n",
    "    flg = M >= upr\n",
    "    melt[flg] = 1\n",
    "\n",
    "    # interpolate ambiguous melt points\n",
    "    flg = (M >= lwr) & (M < upr)\n",
    "    x = (M[flg] - lwr) / (upr - lwr)\n",
    "    melt[flg] = x\n",
    "    \n",
    "    return melt"
   ]
  },
  {
   "cell_type": "markdown",
   "metadata": {},
   "source": [
    "Global data\n",
    "---"
   ]
  },
  {
   "cell_type": "code",
   "execution_count": 4,
   "metadata": {},
   "outputs": [],
   "source": [
    "# key data\n",
    "var = \"tas\"\n",
    "# var = \"tasmax\"\n",
    "\n",
    "model = \"cesmle\"\n",
    "# branch = \"historical\"\n",
    "branch = \"rcp85\"\n",
    "src = \"grid\"\n",
    "calibYears = \"1996-2005\"\n",
    "\n",
    "# mon = 6\n",
    "# mon = 7\n",
    "# mon = 8\n",
    "mon = \"JJA\"\n",
    "\n",
    "# suff = None\n",
    "suff = \"adj\"\n",
    "\n",
    "ens = 1\n",
    "# \n",
    "# ------------------------------------\n",
    "# derived data\n",
    "if branch == \"historical\":\n",
    "    yr1 = \"1996\"\n",
    "    yr2 = \"2005\"\n",
    "\n",
    "if branch == \"rcp85\":\n",
    "    yr1 = \"2071\"\n",
    "    yr2 = \"2080\"\n",
    "\n",
    "try:\n",
    "    mms = \"%02d\" % mon\n",
    "except:\n",
    "    mms = mon\n",
    "\n",
    "try:\n",
    "    enss = \"%03d\" % ens\n",
    "except:\n",
    "    enss = ens\n",
    "    \n",
    "yrs = yr1+\"-\"+yr2"
   ]
  },
  {
   "cell_type": "markdown",
   "metadata": {},
   "source": [
    "File templates etc\n",
    "---"
   ]
  },
  {
   "cell_type": "code",
   "execution_count": 5,
   "metadata": {},
   "outputs": [],
   "source": [
    "modelMetaFN = \"wrf_geog.nc\"\n",
    "\n",
    "# modelDataDirTemplate = \"/Volumes/sbp1/model/pwrf/gis_%s/%s/wrf/postproc/tas/%%03d\" % (model, branch )\n",
    "modelDataDirTemplate = \"/Volumes/sbp1/model/pwrf/gis_%s/%s/wrf/postproc/tas/%%s\" % (model, branch )\n",
    "if suff is None:\n",
    "#     modelDataTemplate = \"tas_wrf_%s_%%03d_%s_%s_d.nc\" % ( model, yrs, mms )\n",
    "    modelDataTemplate = \"tas_wrf_%s_%%s_%s_%s_d.nc\" % ( model, yrs, mms )\n",
    "    newNCFNTemplate = \"wrf_%s_%%s_tas_newmelt_%s_%s.nc\" % ( model, yrs, mms )\n",
    "else:\n",
    "#     modelDataTemplate = \"tas_wrf_%s_%%03d_%s_%s_d_%s.nc\" % ( model, yrs, mms, suff )\n",
    "    modelDataTemplate = \"tas_wrf_%s_%%s_%s_%s_d_%s.nc\" % ( model, yrs, mms, suff )\n",
    "    newNCFNTemplate = \"wrf_%s_%%s_tas_newmelt_%s_%s_adj.nc\" % ( model, yrs, mms )"
   ]
  },
  {
   "cell_type": "markdown",
   "metadata": {},
   "source": [
    "Load temperature data\n",
    "----"
   ]
  },
  {
   "cell_type": "code",
   "execution_count": 6,
   "metadata": {},
   "outputs": [
    {
     "name": "stdout",
     "output_type": "stream",
     "text": [
      "Input directory is /Volumes/sbp1/model/pwrf/gis_cesmle/rcp85/wrf/postproc/tas/001\n",
      "Input file is tas_wrf_cesmle_001_2071-2080_JJA_d_adj.nc\n",
      "Output file is wrf_cesmle_001_tas_newmelt_2071-2080_JJA_adj.nc\n",
      "2071-06-01 10:30:00 2080-08-31 10:30:00\n",
      "Shape: 920 219 197\n"
     ]
    }
   ],
   "source": [
    "modelDataDir = modelDataDirTemplate % enss\n",
    "modelDataFN = modelDataTemplate % enss\n",
    "newNCFN = newNCFNTemplate % enss\n",
    "\n",
    "print \"Input directory is \"+modelDataDir\n",
    "print \"Input file is \"+modelDataFN\n",
    "print \"Output file is \"+newNCFN\n",
    "\n",
    "D = Model(None, modelDataDir+\"/\"+modelDataFN)\n",
    "\n",
    "time, timeCF = D.loadData( \"time\" )\n",
    "print time[0], time[-1]\n",
    "# dfTime = pd.Series( time, name=\"Time\")\n",
    "\n",
    "X = np.array( D.loadData( var ) )\n",
    "nRec, nLat, nLon = X.shape\n",
    "print \"Shape:\", nRec, nLat, nLon"
   ]
  },
  {
   "cell_type": "markdown",
   "metadata": {},
   "source": [
    "Load Mote ice sheet mask\n",
    "---"
   ]
  },
  {
   "cell_type": "code",
   "execution_count": 7,
   "metadata": {},
   "outputs": [],
   "source": [
    "fn = \"icesheet_mask.nc\"\n",
    "ncfn = Dataset(fn, \"r\")\n",
    "icemask2d = np.array( ncfn.variables[ \"icemask\" ] )\n",
    "icemask3d = np.repeat( icemask2d[None,:,:],nRec,axis=0)"
   ]
  },
  {
   "cell_type": "markdown",
   "metadata": {},
   "source": [
    "Predict melt, then mask to ice sheet\n",
    "---"
   ]
  },
  {
   "cell_type": "code",
   "execution_count": 8,
   "metadata": {
    "scrolled": true
   },
   "outputs": [
    {
     "name": "stdout",
     "output_type": "stream",
     "text": [
      "Lower -9.0 Upper -1.5\n",
      "Shape: 920 219 197\n"
     ]
    }
   ],
   "source": [
    "lwr, upr = setLimits( mms, var, src )\n",
    "print \"Lower\", lwr, \"Upper\", upr\n",
    "\n",
    "meltNewF = predictMelt( X, lwr, upr )\n",
    "\n",
    "noice = (icemask3d < 1)\n",
    "meltNewF[noice] = np.nan\n",
    "\n",
    "nRec2, nLat2, nLon2 = meltNewF.shape\n",
    "print \"Shape:\", nRec2, nLat2, nLon2"
   ]
  },
  {
   "cell_type": "markdown",
   "metadata": {},
   "source": [
    "Convert from 0-1 to 0/1, i.e., turn floats into integers\n",
    "---"
   ]
  },
  {
   "cell_type": "code",
   "execution_count": 9,
   "metadata": {},
   "outputs": [
    {
     "name": "stdout",
     "output_type": "stream",
     "text": [
      "Critical value = 0.779 , _FillValue = -999\n"
     ]
    },
    {
     "name": "stderr",
     "output_type": "stream",
     "text": [
      "/Library/Python/2.7/site-packages/ipykernel/__main__.py:11: RuntimeWarning: invalid value encountered in less\n"
     ]
    }
   ],
   "source": [
    "# set critical value for melt/nomelt and _FillValue for integer version\n",
    "pCrit = 0.5        # default, not expected to be used\n",
    "if var == \"tas\":\n",
    "    pCrit = 0.779\n",
    "# if var == \"tasmax\":\n",
    "#     pCrit = 0.839\n",
    "intFillValue = -999\n",
    "print \"Critical value =\",pCrit,\", _FillValue =\", intFillValue\n",
    "\n",
    "# adjust based on critical value\n",
    "meltNewRnd = np.where( meltNewF < pCrit, 0., 1. )\n",
    "\n",
    "# convert to integer and retain missing values\n",
    "nanix = np.isnan(meltNewF)\n",
    "meltNewI = np.rint( meltNewRnd ).astype(np.int16)\n",
    "meltNewI[nanix] = intFillValue  # can't use np.nan since that's only for floats!"
   ]
  },
  {
   "cell_type": "markdown",
   "metadata": {},
   "source": [
    "Create a netCDF file for the new data\n",
    "-----"
   ]
  },
  {
   "cell_type": "code",
   "execution_count": 10,
   "metadata": {},
   "outputs": [],
   "source": [
    "# new file will have TWO melt variables:\n",
    "# 1. meltProb = melt prediction as floating point probability\n",
    "# 2. melt     = melt prediction as 0/1 integer based on critical probability cutoff value\n",
    "try: ncfile.close()  # just to be safe, make sure dataset is not already open.\n",
    "except: pass\n",
    "\n",
    "ncfile = Dataset(newNCFN, mode='w', format = 'NETCDF4_CLASSIC') \n",
    "ncfile.title = \"Predicted melt occurrence\"\n",
    "ncfile.bounds = \"%.2f, %.2f\" % (lwr, upr)\n",
    "ncfile.source_model = model\n",
    "ncfile.source_data = src\n",
    "ncfile.branch = branch\n",
    "ncfile.period = yrs\n",
    "ncfile.month = mms\n",
    "ncfile.calibYears = calibYears\n",
    "ncfile.predictorVar = var\n",
    "\n",
    "time_dim = ncfile.createDimension('time', None)\n",
    "sn_dim  = ncfile.createDimension('south_north', nLat)\n",
    "we_dim  = ncfile.createDimension('west_east', nLon)\n",
    "\n",
    "timeVar = ncfile.createVariable('time', np.float32, ('time',))\n",
    "timeVar.units = timeCF.units\n",
    "timeVar.calendar = timeCF.calendar\n",
    "timeVar.standard_name = timeCF.standard_name\n",
    "timeVar.long_name = timeCF.long_name\n",
    "timeVar.axis = timeCF.axis\n",
    "timeVar[:] = date2num(time, timeCF.units, timeCF.calendar)\n",
    "\n",
    "meltVar1 = ncfile.createVariable('meltProb', np.float32, ('time','south_north','west_east'), \\\n",
    "                                fill_value = np.nan )\n",
    "meltVar1.description = \"Melt occurrence (probability)\"\n",
    "meltVar1.long_name = \"Melt occurrence probability (0-1) predicted from near-surface temperature\"\n",
    "meltVar1.critValue = pCrit\n",
    "meltVar1[:] = meltNewF\n",
    "\n",
    "meltVar2 = ncfile.createVariable('melt', np.int16, ('time','south_north','west_east'), \\\n",
    "                                fill_value = intFillValue )\n",
    "meltVar2.description = \"Melt occurrence (0/1)\"\n",
    "meltVar2.long_name = \"Melt occurrence (0/1) predicted from near-surface temperature\"\n",
    "meltVar2.critValue = pCrit\n",
    "meltVar2[:] = meltNewI\n",
    "\n",
    "ncfile.close()"
   ]
  }
 ],
 "metadata": {
  "kernelspec": {
   "display_name": "Python 2",
   "language": "python",
   "name": "python2"
  },
  "language_info": {
   "codemirror_mode": {
    "name": "ipython",
    "version": 2
   },
   "file_extension": ".py",
   "mimetype": "text/x-python",
   "name": "python",
   "nbconvert_exporter": "python",
   "pygments_lexer": "ipython2",
   "version": "2.7.10"
  }
 },
 "nbformat": 4,
 "nbformat_minor": 2
}
