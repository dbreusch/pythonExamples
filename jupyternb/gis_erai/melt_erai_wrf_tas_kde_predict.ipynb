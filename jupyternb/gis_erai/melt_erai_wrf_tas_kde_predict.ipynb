{
 "cells": [
  {
   "cell_type": "markdown",
   "metadata": {},
   "source": [
    "KDE-based empirical prediction of melt/nomelt with tas\n",
    "==="
   ]
  },
  {
   "cell_type": "markdown",
   "metadata": {},
   "source": [
    "Global module imports\n",
    "---"
   ]
  },
  {
   "cell_type": "code",
   "execution_count": 1,
   "metadata": {},
   "outputs": [],
   "source": [
    "# %matplotlib inline\n",
    "# %config InlineBackend.print_figure_kwargs = {'bbox_inches':'tight'}\n",
    "# from plotUtils import PlotUtils \n",
    "\n",
    "from netCDF4 import Dataset,date2num\n",
    "import pandas as pd\n",
    "import numpy as np\n",
    "from scipy import stats\n",
    "import os\n",
    "# import seaborn as sns\n",
    "# import matplotlib.pyplot as plt\n",
    "# import matplotlib.ticker as ticker\n",
    "# from matplotlib.lines import Line2D\n",
    "# from matplotlib.text import Text\n",
    "\n",
    "%load_ext autoreload\n",
    "%autoreload 2\n",
    "from model import Model\n",
    "from GCNet import GCNet\n",
    "from itertools import izip\n",
    "\n",
    "pd.options.mode.chained_assignment = None"
   ]
  },
  {
   "cell_type": "markdown",
   "metadata": {},
   "source": [
    "Function: define upper/lower temperature limits\n",
    "---"
   ]
  },
  {
   "cell_type": "code",
   "execution_count": 2,
   "metadata": {},
   "outputs": [],
   "source": [
    "def setLimits(  mms, var, src = \"grid\" ):\n",
    "    '''\n",
    "        bounds based on KDE of various datasets, 1986-2015\n",
    "        note: this is a doubly-nested dictionary!\n",
    "    '''\n",
    "    bounds = { \\\n",
    "                'tas': { \\\n",
    "                   'aws': { \\\n",
    "                       '06':  ( -7.8, -0.1 ), \\\n",
    "                       '07':  ( -7.2, 0.3 ), \\\n",
    "                       '08':  ( -8.8, 0.3 ), \\\n",
    "                       'JJA': ( -7.7, 0.2 ) \\\n",
    "                          }, \\\n",
    "                   'grid': { \\\n",
    "                       '06':  ( -7.7, -0.7 ), \\\n",
    "                       '07':  ( -6.9, -0.4 ), \\\n",
    "                       '08':  ( -8.7, -0.4 ), \\\n",
    "                       'JJA': ( -7.6, -0.4 ) \\\n",
    "                           } \\\n",
    "                       }, \\\n",
    "                'tasmax': { \\\n",
    "                  'aws': { \\\n",
    "                      '06':  ( -2.9, 1.2 ), \\\n",
    "                      '07':  ( -2.1, 1.4 ), \\\n",
    "                      '08':  ( -3.8, 1.4 ), \\\n",
    "                      'JJA': ( -2.8, 1.3 ) \\\n",
    "                         }, \\\n",
    "                  'grid': { \\\n",
    "                      '06':  ( -3.7, 0.9 ), \\\n",
    "                      '07':  ( -2.5, 1.0 ), \\\n",
    "                      '08':  ( -4.5, 1.9 ), \\\n",
    "                      'JJA': ( -3.3, 1.0 ) \\\n",
    "                          } \\\n",
    "                      } \\\n",
    "                 }\n",
    "    try:\n",
    "        return bounds[var][src][mms]\n",
    "    except:\n",
    "        print \"setLimits: Key error(s)!  Args: var =\",var,\", src =\",src,\", mms =\",mms\n",
    "        return (None, None)"
   ]
  },
  {
   "cell_type": "markdown",
   "metadata": {},
   "source": [
    "Function: Predict melt from temperature\n",
    "---"
   ]
  },
  {
   "cell_type": "code",
   "execution_count": 3,
   "metadata": {},
   "outputs": [],
   "source": [
    "def predictMelt( M, lwr, upr ):\n",
    "    \"\"\" predict melt from temperature using empirical transition function\"\"\"\n",
    "\n",
    "    # setup\n",
    "    melt = np.zeros_like( M ).astype(np.float32)\n",
    "    \n",
    "    # set points with obvious melt \n",
    "    flg = M >= upr\n",
    "    melt[flg] = 1\n",
    "\n",
    "    # interpolate ambiguous melt points\n",
    "    flg = (M >= lwr) & (M < upr)\n",
    "    x = (M[flg] - lwr) / (upr - lwr)\n",
    "    melt[flg] = x\n",
    "    \n",
    "    return melt"
   ]
  },
  {
   "cell_type": "markdown",
   "metadata": {},
   "source": [
    "Global data\n",
    "---"
   ]
  },
  {
   "cell_type": "code",
   "execution_count": 4,
   "metadata": {},
   "outputs": [],
   "source": [
    "# key data\n",
    "var = \"tas\"\n",
    "# var = \"tasmax\"\n",
    "\n",
    "model = \"erai\"\n",
    "branch = \"historical\"\n",
    "src = \"grid\"\n",
    "calibYears = \"1986-2015\"\n",
    "\n",
    "# mon = 6\n",
    "# mon = 7\n",
    "# mon = 8\n",
    "mon = \"JJA\"\n",
    "\n",
    "# ------------------------------------\n",
    "# derived data\n",
    "if branch == \"historical\":\n",
    "    yr1 = \"1996\"\n",
    "    yr2 = \"2005\"\n",
    "\n",
    "if branch == \"rcp85\":\n",
    "    yr1 = \"2071\"\n",
    "    yr2 = \"2080\"\n",
    "\n",
    "try:\n",
    "    mms = \"%02d\" % mon\n",
    "except:\n",
    "    mms = mon\n",
    "\n",
    "yrs = yr1+\"-\"+yr2"
   ]
  },
  {
   "cell_type": "markdown",
   "metadata": {},
   "source": [
    "File templates etc\n",
    "---"
   ]
  },
  {
   "cell_type": "code",
   "execution_count": 5,
   "metadata": {},
   "outputs": [],
   "source": [
    "modelMetaFN = \"wrf_geog.nc\"\n",
    "\n",
    "modelDataDir = \"/Volumes/sbp1/model/pwrf/gis_%s/%s/wrf/postproc/%s\" % ( model, branch, var )\n",
    "modelDataFN = \"%s_wrf_%s_%s_%s_d.nc\" % ( var, model, yrs, mms )\n",
    "\n",
    "newFileTemplate = \"wrf_%s_tas_%%s_%s_%s.nc\" % ( model, yrs, mms )\n",
    "newFile = newFileTemplate % ( \"beta\" )"
   ]
  },
  {
   "cell_type": "markdown",
   "metadata": {},
   "source": [
    "Load temperature data\n",
    "----"
   ]
  },
  {
   "cell_type": "code",
   "execution_count": 6,
   "metadata": {},
   "outputs": [
    {
     "name": "stdout",
     "output_type": "stream",
     "text": [
      "Temperature data: tas_wrf_erai_1996-2005_JJA_d.nc\n",
      "Time range: 1996-06-01 10:30:00 2005-08-31 10:30:00\n",
      "Shape: 920 219 197\n"
     ]
    }
   ],
   "source": [
    "print \"Temperature data:\", modelDataFN\n",
    "D = Model(None, modelDataDir+\"/\"+modelDataFN)\n",
    "\n",
    "time, timeCF = D.loadData( \"time\" )\n",
    "print \"Time range:\", time[0], time[-1]\n",
    "# dfTime = pd.Series( time, name=\"Time\")\n",
    "\n",
    "X = np.array( D.loadData( var ) )\n",
    "nRec, nLat, nLon = X.shape\n",
    "print \"Shape:\", nRec, nLat, nLon"
   ]
  },
  {
   "cell_type": "markdown",
   "metadata": {},
   "source": [
    "Load Mote ice sheet mask\n",
    "---"
   ]
  },
  {
   "cell_type": "code",
   "execution_count": 7,
   "metadata": {},
   "outputs": [],
   "source": [
    "fn = \"icesheet_mask.nc\"\n",
    "ncfn = Dataset(fn, \"r\")\n",
    "icemask2d = np.array( ncfn.variables[ \"icemask\" ] )\n",
    "icemask3d = np.repeat( icemask2d[None,:,:],nRec,axis=0)"
   ]
  },
  {
   "cell_type": "markdown",
   "metadata": {},
   "source": [
    "Predict melt, then mask to ice sheet\n",
    "---"
   ]
  },
  {
   "cell_type": "code",
   "execution_count": 8,
   "metadata": {
    "scrolled": true
   },
   "outputs": [
    {
     "name": "stdout",
     "output_type": "stream",
     "text": [
      "Lower -7.6 Upper -0.4\n",
      "Shape: 920 219 197\n"
     ]
    }
   ],
   "source": [
    "lwr, upr = setLimits( mms, var, src )\n",
    "print \"Lower\", lwr, \"Upper\", upr\n",
    "\n",
    "meltPredF = predictMelt( X, lwr, upr )\n",
    "\n",
    "noice = (icemask3d < 1)\n",
    "meltPredF[noice] = np.nan\n",
    "\n",
    "nRec2, nLat2, nLon2 = meltPredF.shape\n",
    "print \"Shape:\", nRec2, nLat2, nLon2"
   ]
  },
  {
   "cell_type": "markdown",
   "metadata": {},
   "source": [
    "Convert from 0-1 to 0/1, i.e., turn floats into integers\n",
    "---"
   ]
  },
  {
   "cell_type": "code",
   "execution_count": 9,
   "metadata": {},
   "outputs": [
    {
     "name": "stdout",
     "output_type": "stream",
     "text": [
      "Critical value = 0.738 , _FillValue = -999\n"
     ]
    },
    {
     "name": "stderr",
     "output_type": "stream",
     "text": [
      "/Library/Python/2.7/site-packages/ipykernel/__main__.py:11: RuntimeWarning: invalid value encountered in less\n"
     ]
    }
   ],
   "source": [
    "# set critical value for melt/nomelt and _FillValue for integer version\n",
    "pCrit = 0.5        # default, not expected to be used\n",
    "if var == \"tas\":\n",
    "    pCrit = 0.738\n",
    "if var == \"tasmax\":\n",
    "    pCrit = 0.839\n",
    "intFillValue = -999\n",
    "print \"Critical value =\",pCrit,\", _FillValue =\", intFillValue\n",
    "\n",
    "# adjust based on critical value\n",
    "meltNewRnd = np.where( meltPredF < pCrit, 0., 1. )\n",
    "\n",
    "# convert to integer and retain missing values\n",
    "nanix = np.isnan(meltPredF)\n",
    "meltPredI = np.rint( meltNewRnd ).astype(np.int16)\n",
    "meltPredI[nanix] = intFillValue  # can't use np.nan since that's only for floats!"
   ]
  },
  {
   "cell_type": "markdown",
   "metadata": {},
   "source": [
    "Calculate a \"total melt days\" variable\n",
    "---"
   ]
  },
  {
   "cell_type": "code",
   "execution_count": 11,
   "metadata": {},
   "outputs": [],
   "source": [
    "meltSum = np.sum( meltPredI, axis = 0 )\n",
    "meltSum = np.where( meltSum < 0, 0, meltSum )"
   ]
  },
  {
   "cell_type": "markdown",
   "metadata": {},
   "source": [
    "Create a netCDF file for the new data\n",
    "-----"
   ]
  },
  {
   "cell_type": "code",
   "execution_count": 13,
   "metadata": {},
   "outputs": [
    {
     "name": "stdout",
     "output_type": "stream",
     "text": [
      "Output file: wrf_erai_tas_beta_1996-2005_JJA.nc\n"
     ]
    }
   ],
   "source": [
    "# new file will have TWO melt variables:\n",
    "# 1. meltProb = melt prediction as floating point probability\n",
    "# 2. melt     = melt prediction as 0/1 integer based on critical probability cutoff value\n",
    "print \"Output file:\", newFile\n",
    "\n",
    "try: \n",
    "    ncfile.close()  # just to be safe, make sure dataset is not already open.\n",
    "except: \n",
    "    pass\n",
    "\n",
    "ncfile = Dataset(newFile, mode='w', format = 'NETCDF4_CLASSIC')\n",
    "\n",
    "# global metadata\n",
    "ncfile.title = \"Predicted melt occurrence\"\n",
    "ncfile.bounds = \"%.2f, %.2f\" % (lwr, upr)\n",
    "ncfile.source_model = model\n",
    "ncfile.source_data = src\n",
    "ncfile.branch = branch\n",
    "ncfile.period = yrs\n",
    "ncfile.month = mms\n",
    "ncfile.calibYears = calibYears\n",
    "ncfile.predictorVar = var\n",
    "bw = 0.4\n",
    "ncfile.kdeBandWidth = bw\n",
    "\n",
    "time_dim = ncfile.createDimension('time', None)\n",
    "sn_dim  = ncfile.createDimension('south_north', nLat)\n",
    "we_dim  = ncfile.createDimension('west_east', nLon)\n",
    "\n",
    "timeVar = ncfile.createVariable('time', np.float32, ('time',))\n",
    "timeVar.units = timeCF.units\n",
    "timeVar.calendar = timeCF.calendar\n",
    "timeVar.standard_name = timeCF.standard_name\n",
    "timeVar.long_name = timeCF.long_name\n",
    "timeVar.axis = timeCF.axis\n",
    "timeVar[:] = date2num(time, timeCF.units, timeCF.calendar)\n",
    "\n",
    "# melt as floating point 0-1\n",
    "meltVarProb = ncfile.createVariable('meltProb', np.float32, ('time','south_north','west_east'), \\\n",
    "                                fill_value = np.nan )\n",
    "meltVarProb.description = \"Melt occurrence (probability)\"\n",
    "meltVarProb.long_name = \"Melt occurrence probability (0-1) predicted from near-surface temperature\"\n",
    "meltVarProb.units = \"probability\"\n",
    "meltVarProb[:] = meltPredF\n",
    "\n",
    "# melt as integer 0/1\n",
    "meltVarOcc = ncfile.createVariable('melt', np.int16, ('time','south_north','west_east'), \\\n",
    "                                fill_value = intFillValue )\n",
    "meltVarOcc.description = \"Melt occurrence (0/1)\"\n",
    "meltVarOcc.long_name = \"Melt occurrence (0/1) predicted from near-surface temperature\"\n",
    "meltVarOcc.units = \"count\"\n",
    "meltVarOcc.critValue = pCrit\n",
    "meltVarOcc[:] = meltPredI\n",
    "\n",
    "# melt sum\n",
    "meltVarSum = ncfile.createVariable('meltSum', np.int16, \\\n",
    "                                   ('south_north','west_east'), \\\n",
    "                                   fill_value = intFillValue )\n",
    "meltVarSum.description = \"Number of melt days\"\n",
    "meltVarSum.long_name = \"Total number of melt days in the study period\"\n",
    "meltVarSum.units = \"count\"\n",
    "meltVarSum[:] = meltSum\n",
    "\n",
    "ncfile.close()"
   ]
  }
 ],
 "metadata": {
  "kernelspec": {
   "display_name": "Python 2",
   "language": "python",
   "name": "python2"
  },
  "language_info": {
   "codemirror_mode": {
    "name": "ipython",
    "version": 2
   },
   "file_extension": ".py",
   "mimetype": "text/x-python",
   "name": "python",
   "nbconvert_exporter": "python",
   "pygments_lexer": "ipython2",
   "version": "2.7.10"
  }
 },
 "nbformat": 4,
 "nbformat_minor": 2
}
