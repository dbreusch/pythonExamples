{
 "cells": [
  {
   "cell_type": "markdown",
   "metadata": {},
   "source": [
    "Create a file with data from closest grid point\n",
    "==="
   ]
  },
  {
   "cell_type": "markdown",
   "metadata": {},
   "source": [
    "Import required modules and set file names\n",
    "----"
   ]
  },
  {
   "cell_type": "code",
   "execution_count": 1,
   "metadata": {},
   "outputs": [],
   "source": [
    "from netCDF4 import Dataset,date2num\n",
    "import pandas as pd\n",
    "import numpy as np\n",
    "\n",
    "%load_ext autoreload\n",
    "%autoreload 2\n",
    "from model import Model\n",
    "from GCNet import GCNet"
   ]
  },
  {
   "cell_type": "markdown",
   "metadata": {},
   "source": [
    "Variable metadata\n",
    "---"
   ]
  },
  {
   "cell_type": "code",
   "execution_count": 2,
   "metadata": {},
   "outputs": [],
   "source": [
    "# var = \"tas\"\n",
    "# varTitle = \"Closest-point temperature data\"\n",
    "# varLongName = \"Reference height temperature\"\n",
    "# varUnits = \"K\"\n",
    "var = \"tasmax\"\n",
    "varTitle = \"Closest-point temperature data\"\n",
    "varLongName = \"Reference height temperature, daily max\"\n",
    "varUnits = \"K\""
   ]
  },
  {
   "cell_type": "markdown",
   "metadata": {},
   "source": [
    "Period-specific data\n",
    "----"
   ]
  },
  {
   "cell_type": "code",
   "execution_count": 72,
   "metadata": {},
   "outputs": [],
   "source": [
    "yr1 = \"1986\"\n",
    "yr2 = \"2015\"\n",
    "# yr1 = \"1996\"\n",
    "# yr2 = \"2005\"\n",
    "\n",
    "# mm = 6\n",
    "# mm = 7\n",
    "# mm = 8\n",
    "mm = \"JJA\"\n",
    "try:\n",
    "    mms = \"%02d\" % mm\n",
    "except TypeError:\n",
    "    mms = mm\n",
    "\n",
    "suff = yr1+\"-\"+yr2"
   ]
  },
  {
   "cell_type": "markdown",
   "metadata": {},
   "source": [
    "File templates etc\n",
    "---"
   ]
  },
  {
   "cell_type": "code",
   "execution_count": 73,
   "metadata": {},
   "outputs": [],
   "source": [
    "model = \"erai\"\n",
    "modelDataDir = \"/Volumes/sbp1/model/pwrf/gis_%s/historical/wrf/postproc/%s\" % (model, var)\n",
    "# tasmax_wrf_erai_1996-2005_06_d.nc\n",
    "modelDataFN = var+\"_wrf_%s_%s_%s_d.nc\" % ( model, suff, mms )\n",
    "\n",
    "modelMetaFN = \"wrf_geog.nc\"\n",
    "# modelMetaFN = \"../erai/erai_geog_sub.nc\"\n",
    "\n",
    "newNCFN = \"wrf_%s_%s_closest_%s_%s.nc\" % ( model, var, suff, mms )"
   ]
  },
  {
   "cell_type": "markdown",
   "metadata": {},
   "source": [
    "Load/define ERA Interim metadata\n",
    "----"
   ]
  },
  {
   "cell_type": "code",
   "execution_count": 74,
   "metadata": {},
   "outputs": [],
   "source": [
    "# modelMeta = Dataset( modelMetaFN, \"r\")\n",
    "# lat = modelMeta.variables['lat'][:]\n",
    "# ndim = len(lat.shape)\n",
    "# lon = modelMeta.variables['lon'][:]"
   ]
  },
  {
   "cell_type": "code",
   "execution_count": 75,
   "metadata": {},
   "outputs": [
    {
     "name": "stdout",
     "output_type": "stream",
     "text": [
      "2d dataset\n"
     ]
    }
   ],
   "source": [
    "M = Model(modelMetaFN)\n",
    "M.loadMeta()\n",
    "\n",
    "minLon = -70 + 360\n",
    "maxLon = -15 + 360\n",
    "minLat = 58\n",
    "maxLat = 86.5\n",
    "M.setDomain( (minLat, maxLat, minLon, maxLon) )"
   ]
  },
  {
   "cell_type": "markdown",
   "metadata": {},
   "source": [
    "Load AWS metadata\n",
    "----"
   ]
  },
  {
   "cell_type": "code",
   "execution_count": 76,
   "metadata": {},
   "outputs": [],
   "source": [
    "A = GCNet(\"site_info.nc\")\n",
    "A.loadMeta()\n",
    "nSites = A.getNSites()"
   ]
  },
  {
   "cell_type": "markdown",
   "metadata": {},
   "source": [
    "Find closest grid points\n",
    "-----"
   ]
  },
  {
   "cell_type": "code",
   "execution_count": 77,
   "metadata": {},
   "outputs": [
    {
     "name": "stdout",
     "output_type": "stream",
     "text": [
      "[('ixLat', '<u2'), ('lat', '<f4'), ('ixLon', '<u2'), ('lon', '<f4'), ('distance', '<f8')]\n",
      "[(113, 72.5353 , 101, 321.35077,  6.88726807)\n",
      " (114, 72.6704 , 101, 321.36145, 11.06182969)\n",
      " (113, 72.53159, 102, 321.80075, 11.47484497)\n",
      " (114, 72.66665, 102, 321.815  , 14.3741641 )]\n"
     ]
    }
   ],
   "source": [
    "C = []\n",
    "for awsIX in (range(nSites)):\n",
    "# for awsIX in ([0,1]):\n",
    "# for awsIX in ([0]):\n",
    "    awsLatLon = ( A.getLat( awsIX ), A.getLon( awsIX ))\n",
    "    closest = M.closestPoints( awsLatLon )\n",
    "    C.append( closest )\n",
    "    if awsIX == 5:\n",
    "        print closest.dtype\n",
    "        print closest"
   ]
  },
  {
   "cell_type": "markdown",
   "metadata": {},
   "source": [
    "Process data\n",
    "----"
   ]
  },
  {
   "cell_type": "code",
   "execution_count": 78,
   "metadata": {},
   "outputs": [
    {
     "name": "stdout",
     "output_type": "stream",
     "text": [
      "tasmax_wrf_erai_1986-2015_JJA_d.nc\n",
      "1986-06-01 10:30:00 2015-08-31 10:30:00\n",
      "2760 219 197\n",
      "Swiss Camp 2.1 km\n",
      "Crawford Point1 5.6 km\n",
      "NASA-U 6.7 km\n",
      "GITS 6.4 km\n",
      "Humboldt 6.9 km\n",
      "Summit 6.9 km\n",
      "Tunu-N 4.2 km\n",
      "DYE-2 3.8 km\n",
      "JAR1 7.7 km\n",
      "Saddle 5.6 km\n",
      "South Dome 6.1 km\n",
      "NASA-E 3.1 km\n",
      "Crawford Point2 10.0 km\n",
      "NGRIP 6.2 km\n",
      "NASA-SE 7.2 km\n",
      "KAR 1.2 km\n",
      "JAR2 4.4 km\n",
      "KULU 5.5 km\n",
      "JAR3 1.0 km\n",
      "Aurora 3.9 km\n",
      "Petermann GL 6.5 km\n",
      "Petermann ELA 4.9 km\n",
      "NEEM 2.7 km\n"
     ]
    }
   ],
   "source": [
    "print modelDataFN\n",
    "D = Model(None, modelDataDir+\"/\"+modelDataFN)\n",
    "\n",
    "time, timeCF = D.loadData( \"time\" )\n",
    "print time[0], time[-1]\n",
    "# dfTime = pd.Series( time, name=\"Time\")\n",
    "\n",
    "X = np.array( D.loadData( var ) )\n",
    "nRec, nLat, nLon = X.shape\n",
    "print nRec, nLat, nLon\n",
    "\n",
    "Xnew = np.empty( (nRec, nSites), dtype = 'float' )\n",
    "\n",
    "for awsIX in (range(nSites)):\n",
    "# for awsIX in ((0,1)):\n",
    "# for awsIX in ([5]):\n",
    "    \"\"\" Basic AWS info \"\"\"\n",
    "    awsName = A.getName( awsIX )\n",
    "    awsLatLon = ( A.getLat( awsIX ), A.getLon( awsIX ))\n",
    "\n",
    "    closest = C[awsIX][0]\n",
    "#     print awsLatLon, closest\n",
    "#     print closest['lat'][0],closest['lon'][0]\n",
    "    dx = \"%.1f km\" % closest[-1]\n",
    "    print awsName, dx\n",
    "    Xnew[:,awsIX] = X[:,closest['ixLat'],closest['ixLon']]"
   ]
  },
  {
   "cell_type": "code",
   "execution_count": 79,
   "metadata": {},
   "outputs": [],
   "source": [
    "# Xnew[0:10,5]"
   ]
  },
  {
   "cell_type": "markdown",
   "metadata": {},
   "source": [
    "Create a netCDF file for the new data\n",
    "-----"
   ]
  },
  {
   "cell_type": "code",
   "execution_count": 80,
   "metadata": {},
   "outputs": [],
   "source": [
    "try: ncfile.close()  # just to be safe, make sure dataset is not already open.\n",
    "except: pass\n",
    "\n",
    "ncfile = Dataset( newNCFN, mode='w', format='NETCDF4_CLASSIC' ) \n",
    "ncfile.title = varTitle\n",
    "ncfile.period = suff\n",
    "\n",
    "time_dim = ncfile.createDimension('time', None)\n",
    "# ens_dim = ncfile.createDimension('ensemble', nEns)\n",
    "stn_dim = ncfile.createDimension('station', nSites)\n",
    "\n",
    "timeVar = ncfile.createVariable('time', np.float32, ('time',))\n",
    "timeVar.units = timeCF.units\n",
    "timeVar.calendar = timeCF.calendar\n",
    "timeVar.standard_name = timeCF.standard_name\n",
    "timeVar.long_name = timeCF.long_name\n",
    "timeVar.axis = timeCF.axis\n",
    "\n",
    "timeVar[:] = date2num(time, timeCF.units, timeCF.calendar)\n",
    "\n",
    "# XVar = ncfile.createVariable(var, np.float32, ('time','station'))\n",
    "# XVar = ncfile.createVariable(var, np.float32, ('ensemble','time','station'))\n",
    "XVar = ncfile.createVariable(var, np.float32, ('time','station'))\n",
    "XVar.units = varUnits\n",
    "XVar.description = varTitle\n",
    "XVar.long_name = varLongName\n",
    "# XVar[:,:] = Xnew\n",
    "XVar[:] = Xnew\n",
    "\n",
    "ncfile.close()"
   ]
  }
 ],
 "metadata": {
  "kernelspec": {
   "display_name": "Python 2",
   "language": "python",
   "name": "python2"
  },
  "language_info": {
   "codemirror_mode": {
    "name": "ipython",
    "version": 2
   },
   "file_extension": ".py",
   "mimetype": "text/x-python",
   "name": "python",
   "nbconvert_exporter": "python",
   "pygments_lexer": "ipython2",
   "version": "2.7.10"
  }
 },
 "nbformat": 4,
 "nbformat_minor": 2
}
